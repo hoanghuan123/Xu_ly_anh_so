{
 "cells": [
  {
   "cell_type": "code",
   "execution_count": null,
   "metadata": {},
   "outputs": [
    {
     "name": "stderr",
     "output_type": "stream",
     "text": [
      "C:\\Users\\adsmin\\AppData\\Local\\Temp\\ipykernel_24000\\445442725.py:4: DeprecationWarning: Starting with ImageIO v3 the behavior of this function will switch to that of iio.v3.imread. To keep the current behavior (and make this warning disappear) use `import imageio.v2 as imageio` or call `imageio.v2.imread` directly.\n",
      "  img = imageio.imread('flower.jpeg')\n"
     ]
    }
   ],
   "source": [
    "import imageio\n",
    "import numpy as np\n",
    "\n",
    "img = imageio.imread('flower.jpeg')\n",
    "r, g, b = img[:, :, 0], img[:, :, 1], img[:, :, 2]\n",
    "\n",
    "\n",
    "img_r = np.stack((r, np.zeros_like(r), np.zeros_like(r)), axis=2)\n",
    "img_g = np.stack((np.zeros_like(g), g, np.zeros_like(g)), axis=2)\n",
    "img_b = np.stack((np.zeros_like(b), np.zeros_like(b), b), axis=2)\n",
    "\n",
    "imageio.imwrite('red.png', img_r.astype(np.uint8))\n",
    "imageio.imwrite('green.png', img_g.astype(np.uint8))\n",
    "imageio.imwrite('blue.png', img_b.astype(np.uint8))\n"
   ]
  },
  {
   "cell_type": "code",
   "execution_count": null,
   "metadata": {},
   "outputs": [
    {
     "name": "stderr",
     "output_type": "stream",
     "text": [
      "C:\\Users\\adsmin\\AppData\\Local\\Temp\\ipykernel_24000\\166938655.py:3: DeprecationWarning: Starting with ImageIO v3 the behavior of this function will switch to that of iio.v3.imread. To keep the current behavior (and make this warning disappear) use `import imageio.v2 as imageio` or call `imageio.v2.imread` directly.\n",
      "  img = imageio.imread('balloons_noisy.png')\n"
     ]
    }
   ],
   "source": [
    "import imageio\n",
    "\n",
    "img = imageio.imread('balloons_noisy.png')\n",
    "\n",
    "\n",
    "img_bgr = img[:, :, ::-1]  \n",
    "img_grb = img[:, :, [1, 0, 2]] \n",
    "img_brg = img[:, :, [2, 0, 1]]  \n",
    "\n",
    "imageio.imwrite('bgr.jpg', img_bgr)\n",
    "imageio.imwrite('grb.jpg', img_grb)\n",
    "imageio.imwrite('brg.jpg', img_brg)\n"
   ]
  },
  {
   "cell_type": "code",
   "execution_count": 22,
   "metadata": {},
   "outputs": [
    {
     "data": {
      "text/plain": [
       "True"
      ]
     },
     "execution_count": 22,
     "metadata": {},
     "output_type": "execute_result"
    }
   ],
   "source": [
    "import cv2\n",
    "\n",
    "img = cv2.imread('bird.png')\n",
    "hsv = cv2.cvtColor(img, cv2.COLOR_BGR2HSV)\n",
    "h, s, v = cv2.split(hsv)\n",
    "\n",
    "cv2.imwrite('h.jpg', h)\n",
    "cv2.imwrite('s.jpg', s)\n",
    "cv2.imwrite('v.jpg', v)\n"
   ]
  },
  {
   "cell_type": "code",
   "execution_count": null,
   "metadata": {},
   "outputs": [
    {
     "data": {
      "text/plain": [
       "True"
      ]
     },
     "execution_count": 25,
     "metadata": {},
     "output_type": "execute_result"
    }
   ],
   "source": [
    "import cv2\n",
    "import numpy as np\n",
    "\n",
    "img = cv2.imread('balloons_noisy.png')\n",
    "hsv = cv2.cvtColor(img, cv2.COLOR_BGR2HSV).astype(np.float32)\n",
    "\n",
    "hsv[:, :, 0] = hsv[:, :, 0] / 3\n",
    "hsv[:, :, 2] = hsv[:, :, 2] * 0.75\n",
    "\n",
    "hsv[:, :, 0] = np.clip(hsv[:, :, 0], 0, 179)\n",
    "hsv[:, :, 2] = np.clip(hsv[:, :, 2], 0, 255)\n",
    "\n",
    "hsv = hsv.astype(np.uint8)\n",
    "result = cv2.cvtColor(hsv, cv2.COLOR_HSV2BGR)\n",
    "cv2.imwrite('hsv.png', result)\n"
   ]
  }
 ],
 "metadata": {
  "kernelspec": {
   "display_name": "Python 3",
   "language": "python",
   "name": "python3"
  },
  "language_info": {
   "codemirror_mode": {
    "name": "ipython",
    "version": 3
   },
   "file_extension": ".py",
   "mimetype": "text/x-python",
   "name": "python",
   "nbconvert_exporter": "python",
   "pygments_lexer": "ipython3",
   "version": "3.13.3"
  }
 },
 "nbformat": 4,
 "nbformat_minor": 2
}
