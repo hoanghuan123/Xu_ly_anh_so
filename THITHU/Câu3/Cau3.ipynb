{
 "cells": [
  {
   "cell_type": "code",
   "execution_count": 2,
   "id": "c137b931",
   "metadata": {},
   "outputs": [],
   "source": [
    "import cv2\n",
    "import numpy as np\n",
    "\n",
    "# 1. Tăng kích thước ảnh colorful-ripe-tropical-fruits.jpg thêm 30 pixel mỗi chiều\n",
    "img_fruit = cv2.imread('colorful-ripe-tropical-fruits.jpg')\n",
    "if img_fruit is not None:\n",
    "    h_f, w_f = img_fruit.shape[:2]\n",
    "    resized_fruit = cv2.resize(img_fruit, (w_f + 30, h_f + 30))\n",
    "    cv2.imwrite('resized_fruit.jpg', resized_fruit)\n",
    "else:\n",
    "    print(\"Không tìm thấy ảnh 'colorful-ripe-tropical-fruits.jpg'\")\n",
    "\n",
    "# 2. Xoay ảnh quang-ninh.jpg 45 độ theo chiều kim đồng hồ và lật ngang\n",
    "img_quangninh = cv2.imread('quang_ninh.jpg')\n",
    "if img_quangninh is not None:\n",
    "    h_q, w_q = img_quangninh.shape[:2]\n",
    "    center = (w_q // 2, h_q // 2)\n",
    "    M = cv2.getRotationMatrix2D(center, -45, 1.0)  # chiều kim đồng hồ => góc âm\n",
    "    rotated_quangninh = cv2.warpAffine(img_quangninh, M, (w_q, h_q))\n",
    "    flipped_quangninh = cv2.flip(rotated_quangninh, 1)  # lật ngang\n",
    "    cv2.imwrite('rotated_flipped_quangninh.jpg', flipped_quangninh)\n",
    "else:\n",
    "    print(\"Không tìm thấy ảnh 'quang_ninh.jpg'\")\n",
    "\n",
    "# 3. Tăng kích thước ảnh pagoda.jpg lên 5 lần và làm mịn bằng Gaussian Blur kernel 7x7\n",
    "img_pagoda = cv2.imread('pagoda.jpg')\n",
    "if img_pagoda is not None:\n",
    "    h_p, w_p = img_pagoda.shape[:2]\n",
    "    resized_pagoda = cv2.resize(img_pagoda, (w_p * 5, h_p * 5), interpolation=cv2.INTER_LINEAR)\n",
    "    blurred_pagoda = cv2.GaussianBlur(resized_pagoda, (7, 7), 0)\n",
    "    cv2.imwrite('resized_blurred_pagoda.jpg', blurred_pagoda)\n",
    "\n",
    "    # 4. Áp dụng công thức biến đổi ánh sáng và tương phản:\n",
    "    # I_out(x, y) = α * I_in(x, y) + β\n",
    "    alpha = 1.5  # hệ số tương phản (contrast factor)\n",
    "    beta = 20    # độ lệch sáng (brightness offset)\n",
    "    transformed = cv2.convertScaleAbs(blurred_pagoda, alpha=alpha, beta=beta)\n",
    "    cv2.imwrite('transformed_pagoda.jpg', transformed)\n",
    "else:\n",
    "    print(\"Không tìm thấy ảnh 'pagoda.jpg'\")\n"
   ]
  }
 ],
 "metadata": {
  "kernelspec": {
   "display_name": "Python 3",
   "language": "python",
   "name": "python3"
  },
  "language_info": {
   "codemirror_mode": {
    "name": "ipython",
    "version": 3
   },
   "file_extension": ".py",
   "mimetype": "text/x-python",
   "name": "python",
   "nbconvert_exporter": "python",
   "pygments_lexer": "ipython3",
   "version": "3.11.4"
  }
 },
 "nbformat": 4,
 "nbformat_minor": 5
}
