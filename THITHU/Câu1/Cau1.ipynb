{
 "cells": [
  {
   "cell_type": "code",
   "execution_count": 2,
   "id": "af948ad0",
   "metadata": {},
   "outputs": [
    {
     "data": {
      "text/plain": [
       "True"
      ]
     },
     "execution_count": 2,
     "metadata": {},
     "output_type": "execute_result"
    }
   ],
   "source": [
    "import cv2\n",
    "import numpy as np\n",
    "import random\n",
    "\n",
    "# Đọc ảnh gốc\n",
    "image = cv2.imread(\"a.jpg\")\n",
    "\n",
    "# --- 1. Mean filter ---\n",
    "mean_filtered = cv2.blur(image, (5, 5))\n",
    "cv2.imwrite(\"a_mean_filtered.jpg\", mean_filtered)\n",
    "\n",
    "# --- 2. Xác định biên ảnh (sử dụng Canny) ---\n",
    "edges = cv2.Canny(image, 100, 200)\n",
    "cv2.imwrite(\"a_edges.jpg\", edges)\n",
    "\n",
    "# --- 3. Đổi màu RGB ngẫu nhiên ---\n",
    "# Đổi từ BGR sang RGB\n",
    "rgb_image = cv2.cvtColor(image, cv2.COLOR_BGR2RGB)\n",
    "# Tạo thứ tự ngẫu nhiên các kênh\n",
    "channels = [0, 1, 2]\n",
    "random.shuffle(channels)\n",
    "# Hoán đổi kênh màu theo thứ tự ngẫu nhiên\n",
    "random_rgb_image = rgb_image[:, :, channels]\n",
    "# Lưu ảnh đã đổi màu\n",
    "random_bgr_image = cv2.cvtColor(random_rgb_image, cv2.COLOR_RGB2BGR)\n",
    "cv2.imwrite(\"a_random_color.jpg\", random_bgr_image)\n",
    "\n",
    "# --- 4. Chuyển sang HSV và tách kênh ---\n",
    "hsv_image = cv2.cvtColor(image, cv2.COLOR_BGR2HSV)\n",
    "h, s, v = cv2.split(hsv_image)\n",
    "cv2.imwrite(\"a_hue.jpg\", h)\n",
    "cv2.imwrite(\"a_saturation.jpg\", s)\n",
    "cv2.imwrite(\"a_value.jpg\", v)\n"
   ]
  }
 ],
 "metadata": {
  "kernelspec": {
   "display_name": "Python 3",
   "language": "python",
   "name": "python3"
  },
  "language_info": {
   "codemirror_mode": {
    "name": "ipython",
    "version": 3
   },
   "file_extension": ".py",
   "mimetype": "text/x-python",
   "name": "python",
   "nbconvert_exporter": "python",
   "pygments_lexer": "ipython3",
   "version": "3.11.4"
  }
 },
 "nbformat": 4,
 "nbformat_minor": 5
}
